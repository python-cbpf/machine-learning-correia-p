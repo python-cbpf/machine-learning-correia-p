{
 "cells": [
  {
   "cell_type": "code",
   "execution_count": 1,
   "metadata": {},
   "outputs": [],
   "source": [
    "import numpy as np\n",
    "import csv\n",
    "import math\n",
    "import matplotlib.pyplot as plt"
   ]
  },
  {
   "cell_type": "code",
   "execution_count": 48,
   "metadata": {},
   "outputs": [],
   "source": [
    "##Importing the data\n",
    "\n",
    "data = []\n",
    "expected = []\n",
    "\n",
    "with open('pseudo_data_square.csv', newline = '') as f:\n",
    "    reader = csv.reader(f, delimiter = '\\t')\n",
    "    for line in reader:\n",
    "        data.append(np.array(line).astype(np.float)[:2])\n",
    "        expected.append(np.array(line).astype(np.float)[2])"
   ]
  },
  {
   "cell_type": "code",
   "execution_count": 54,
   "metadata": {},
   "outputs": [],
   "source": [
    "##Training data\n",
    "\n",
    "data_training = [data[i] for i in range(len(data)//2)]\n",
    "expected_training = [expected[i] for i in range(len(expected)//2)]"
   ]
  },
  {
   "cell_type": "code",
   "execution_count": 68,
   "metadata": {},
   "outputs": [],
   "source": [
    "##Verification data\n",
    "\n",
    "data_verify = [data[i+len(data)//2] for i in range(len(data)//2)]\n",
    "expected_verify = [expected[i+len(expected)//2] for i in range(len(expected)//2)]"
   ]
  },
  {
   "cell_type": "code",
   "execution_count": 56,
   "metadata": {},
   "outputs": [],
   "source": [
    "##Functions\n",
    "\n",
    "def sigmoid(x):\n",
    "    return 1/(1+np.exp(-x))\n",
    "\n",
    "def output(weight, data):\n",
    "    return sigmoid(np.inner(weight, data))\n",
    "\n",
    "def update_weight(weight, data, expected):\n",
    "    out = output(weight, data)\n",
    "    up_weight = np.zeros(2)\n",
    "    for i in range(2):\n",
    "        up_weight[i] = weight[i] - (out - expected)*out*(1 - out)*data[i]\n",
    "    return up_weight "
   ]
  },
  {
   "cell_type": "code",
   "execution_count": 57,
   "metadata": {},
   "outputs": [
    {
     "name": "stdout",
     "output_type": "stream",
     "text": [
      "[0.84284848 0.87012406]\n"
     ]
    }
   ],
   "source": [
    "##Initial weight\n",
    "\n",
    "initial_weight = np.array([np.random.random(), np.random.random()])\n",
    "print(initial_weight)"
   ]
  },
  {
   "cell_type": "code",
   "execution_count": 65,
   "metadata": {},
   "outputs": [],
   "source": [
    "##Training\n",
    "\n",
    "rounds = 1000\n",
    "\n",
    "evolution_weight = np.array([initial_weight])\n",
    "evolution_output = np.transpose([[output(initial_weight, data_training[i]) for i in range(len(data_training))]])\n",
    "evolution_loss = np.transpose([[(1/2)*(output(initial_weight, data_training[i]) - expected_training[i])**2 for i in range(len(data_training))]])\n",
    "\n",
    "for i in range(rounds):\n",
    "    output_vec = np.zeros(len(data_training))\n",
    "    loss_vec = np.zeros(len(data_training))    \n",
    "    for j in range(len(data_training)):\n",
    "        evolution_weight = np.concatenate((evolution_weight, np.array([update_weight(evolution_weight[len(evolution_weight)-1], data_training[j], expected_training[j])])), axis=0)\n",
    "        output_vec[j] = output(evolution_weight[len(evolution_weight)-1], data_training[j])\n",
    "        loss_vec[j] = (1/2)*(output(evolution_weight[len(evolution_weight)-1], data_training[j]) - expected_training[j])**2\n",
    "    evolution_output = np.concatenate((evolution_output, np.transpose([output_vec])), axis=1)\n",
    "    evolution_loss = np.concatenate((evolution_loss, np.transpose([loss_vec])), axis=1)"
   ]
  },
  {
   "cell_type": "code",
   "execution_count": 66,
   "metadata": {},
   "outputs": [
    {
     "name": "stdout",
     "output_type": "stream",
     "text": [
      "trained weight:  [-36.77247364  36.50707685]\n"
     ]
    },
    {
     "data": {
      "image/png": "[encoded data removed]",
      "text/plain": [
       "<Figure size 432x288 with 1 Axes>"
      ]
     },
     "metadata": {
      "needs_background": "light"
     },
     "output_type": "display_data"
    }
   ],
   "source": [
    "print('trained weight: ', evolution_weight[len(evolution_weight)-1])\n",
    "plt.plot(evolution_loss[0])\n",
    "plt.plot(evolution_loss[1])\n",
    "plt.plot(evolution_loss[2])\n",
    "plt.plot(evolution_loss[3])\n",
    "plt.show()"
   ]
  },
  {
   "cell_type": "code",
   "execution_count": 74,
   "metadata": {},
   "outputs": [],
   "source": [
    "##Verification\n",
    "\n",
    "trained_weight = evolution_weight[len(evolution_weight)-1]\n",
    "trained_output = np.zeros(len(expected_verify))\n",
    "\n",
    "for j in range(len(expected_verify)):\n",
    "    trained_output[j] = output(trained_weight, data_verify[j])\n",
    "\n",
    "loss_verify = np.zeros(len(expected_verify))\n",
    "for i in range(len(expected_verify)):\n",
    "    loss_verify[i] = (1/2)*(trained_output[i]-expected_verify[i])**2\n",
    "    "
   ]
  },
  {
   "cell_type": "code",
   "execution_count": 80,
   "metadata": {},
   "outputs": [
    {
     "data": {
      "image/png": "[encoded data removed]",
      "text/plain": [
       "<Figure size 432x288 with 1 Axes>"
      ]
     },
     "metadata": {
      "needs_background": "light"
     },
     "output_type": "display_data"
    }
   ],
   "source": [
    "plt.hist(trained_output - expected_verify, bins = 50)    \n",
    "plt.show()"
   ]
  },
  {
   "cell_type": "code",
   "execution_count": 81,
   "metadata": {},
   "outputs": [
    {
     "data": {
      "image/png": "[encoded data removed]",
      "text/plain": [
       "<Figure size 432x288 with 1 Axes>"
      ]
     },
     "metadata": {
      "needs_background": "light"
     },
     "output_type": "display_data"
    }
   ],
   "source": [
    "plt.hist(loss_verify, bins = 50)  \n",
    "plt.show()"
   ]
  },
  {
   "cell_type": "code",
   "execution_count": null,
   "metadata": {},
   "outputs": [],
   "source": []
  }
 ],
 "metadata": {
  "kernelspec": {
   "display_name": "Python 3",
   "language": "python",
   "name": "python3"
  },
  "language_info": {
   "codemirror_mode": {
    "name": "ipython",
    "version": 3
   },
   "file_extension": ".py",
   "mimetype": "text/x-python",
   "name": "python",
   "nbconvert_exporter": "python",
   "pygments_lexer": "ipython3",
   "version": "3.7.6"
  }
 },
 "nbformat": 4,
 "nbformat_minor": 2
}
